{
 "cells": [
  {
   "cell_type": "code",
   "execution_count": 1,
   "metadata": {},
   "outputs": [],
   "source": [
    "import pandas as pd\n",
    "import numpy as np\n",
    "\n",
    "import os"
   ]
  },
  {
   "cell_type": "code",
   "execution_count": 2,
   "metadata": {},
   "outputs": [],
   "source": [
    "#read in data\n",
    "data_path = \"/home/kishen/documents/python_projects/disaster_tweets/data/\"\n",
    "df = pd.read_csv(data_path + \"clean_tweets.csv\")"
   ]
  },
  {
   "cell_type": "markdown",
   "metadata": {},
   "source": [
    "Preprocessing"
   ]
  },
  {
   "cell_type": "code",
   "execution_count": 17,
   "metadata": {},
   "outputs": [
    {
     "name": "stdout",
     "output_type": "stream",
     "text": [
      "(8978,) (8978,)\n",
      "(2245,) (2245,)\n"
     ]
    }
   ],
   "source": [
    "os.chdir(\"/home/kishen/documents/python_projects/disaster_tweets/src/\")\n",
    "from processing import tokenizer\n",
    "\n",
    "from sklearn.model_selection import train_test_split\n",
    "\n",
    "#Split data\n",
    "X, y = df['text'], df['target'].values\n",
    "\n",
    "#Process text\n",
    "tokens = X.apply(tokenizer)\n",
    "text = tokens.map(' '.join)\n",
    "\n",
    "X_train, X_test, y_train, y_test = train_test_split(text, y, test_size= .2, shuffle=True)\n",
    "\n",
    "#Sanity Check\n",
    "print(X_train.shape, y_train.shape)\n",
    "print(X_test.shape, y_test.shape)"
   ]
  },
  {
   "cell_type": "code",
   "execution_count": 24,
   "metadata": {},
   "outputs": [
    {
     "name": "stdout",
     "output_type": "stream",
     "text": [
      "Size of training vocabulary: 22564\n"
     ]
    }
   ],
   "source": [
    "#create vanilla bow word vectors\n",
    "from sklearn.feature_extraction.text import CountVectorizer\n",
    "\n",
    "vectorizer = CountVectorizer()\n",
    "\n",
    "train_bow= vectorizer.fit_transform(X_train)\n",
    "test_bow = vectorizer.transform(X_test)\n",
    "\n",
    "print(\"Size of training vocabulary:\", len(vectorizer.get_feature_names_out()))\n"
   ]
  },
  {
   "cell_type": "markdown",
   "metadata": {},
   "source": [
    "\n",
    "**Baseline Log Reg w/ One-hot Encoding**\n",
    "- Vanilla encodings\n",
    "- Vanilla logistic regression model"
   ]
  },
  {
   "cell_type": "code",
   "execution_count": 30,
   "metadata": {},
   "outputs": [
    {
     "name": "stdout",
     "output_type": "stream",
     "text": [
      "Training Data accuracy: 0.9809534417464915\n",
      "Test Data Accuracy: 0.9002227171492205\n"
     ]
    }
   ],
   "source": [
    "from sklearn.linear_model import LogisticRegression\n",
    "\n",
    "#train model\n",
    "lr_base = LogisticRegression()\n",
    "lr_base.fit(train_bow, y_train)\n",
    "\n",
    "print(\"Training Data accuracy:\", lr_base.score(train_bow, y_train))\n",
    "\n",
    "#deploy base model on test\n",
    "print(\"Test Data Accuracy:\", lr_base.score(test_bow, y_test))\n",
    "\n"
   ]
  },
  {
   "cell_type": "code",
   "execution_count": 32,
   "metadata": {},
   "outputs": [
    {
     "data": {
      "text/plain": [
       "['/home/kishen/documents/python_projects/disaster_tweets/saved_models/baseline_logreg.joblib']"
      ]
     },
     "execution_count": 32,
     "metadata": {},
     "output_type": "execute_result"
    }
   ],
   "source": [
    "#save baseline model\n",
    "import joblib\n",
    "\n",
    "filename = \"/home/kishen/documents/python_projects/disaster_tweets/saved_models/baseline_logreg.joblib\"\n",
    "joblib.dump(lr_base, filename)\n"
   ]
  },
  {
   "cell_type": "code",
   "execution_count": null,
   "metadata": {},
   "outputs": [],
   "source": []
  }
 ],
 "metadata": {
  "kernelspec": {
   "display_name": "nlp",
   "language": "python",
   "name": "nlp"
  },
  "language_info": {
   "codemirror_mode": {
    "name": "ipython",
    "version": 3
   },
   "file_extension": ".py",
   "mimetype": "text/x-python",
   "name": "python",
   "nbconvert_exporter": "python",
   "pygments_lexer": "ipython3",
   "version": "3.8.14"
  },
  "orig_nbformat": 4,
  "vscode": {
   "interpreter": {
    "hash": "64cd469787b9e08d7ea8a6d1045b1be8bcad3e488f0adcc8931bd4a334fab8a1"
   }
  }
 },
 "nbformat": 4,
 "nbformat_minor": 2
}
