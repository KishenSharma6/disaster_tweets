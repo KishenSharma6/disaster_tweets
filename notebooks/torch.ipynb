{
 "cells": [
  {
   "cell_type": "code",
   "execution_count": 1,
   "metadata": {},
   "outputs": [],
   "source": [
    "import pandas as pd\n",
    "import numpy as np\n",
    "import matplotlib.pyplot as plt\n",
    "\n",
    "import os"
   ]
  },
  {
   "cell_type": "code",
   "execution_count": 2,
   "metadata": {},
   "outputs": [],
   "source": [
    "#read in data\n",
    "data_path = \"/home/kishen/documents/python_projects/disaster_tweets/data/\"\n",
    "df = pd.read_csv(data_path + \"clean_tweets.csv\")"
   ]
  },
  {
   "cell_type": "markdown",
   "metadata": {},
   "source": [
    "Preprocessing"
   ]
  },
  {
   "cell_type": "code",
   "execution_count": 3,
   "metadata": {},
   "outputs": [
    {
     "name": "stdout",
     "output_type": "stream",
     "text": [
      "(8978,) (8978,)\n",
      "(2245,) (2245,)\n"
     ]
    }
   ],
   "source": [
    "os.chdir(\"/home/kishen/documents/python_projects/disaster_tweets/\")\n",
    "from src.processing import tokenizer\n",
    "\n",
    "from sklearn.model_selection import train_test_split\n",
    "\n",
    "#Split data\n",
    "X, y = df['text'], df['target'].values\n",
    "\n",
    "\n",
    "\n",
    "X_train, X_test, y_train, y_test = train_test_split(X, y, test_size= .2, shuffle=True, random_state=24)\n",
    "\n",
    "#Sanity Check\n",
    "print(X_train.shape, y_train.shape)\n",
    "print(X_test.shape, y_test.shape)"
   ]
  },
  {
   "cell_type": "code",
   "execution_count": 4,
   "metadata": {},
   "outputs": [
    {
     "name": "stderr",
     "output_type": "stream",
     "text": [
      "/tmp/ipykernel_15388/1529872051.py:1: FutureWarning: The behavior of `series[i:j]` with an integer-dtype index is deprecated. In a future version, this will be treated as *label-based* indexing, consistent with e.g. `series[i]` lookups. To retain the old behavior, use `series.iloc[i:j]`. To get the future behavior, use `series.loc[i:j]`.\n",
      "  X_train[:3]\n"
     ]
    },
    {
     "data": {
      "text/plain": [
       "9160     1/ THANK YOU IN ADVANCE FOR YOUR PATIENCE whil...\n",
       "2590     BBC getting their election collision payoff in...\n",
       "10363    No. That is not the thing she likes.once slept...\n",
       "Name: text, dtype: object"
      ]
     },
     "execution_count": 4,
     "metadata": {},
     "output_type": "execute_result"
    }
   ],
   "source": [
    "X_train[:3]"
   ]
  },
  {
   "cell_type": "code",
   "execution_count": 5,
   "metadata": {},
   "outputs": [],
   "source": [
    "from src.datasets import Dataset, Vocabulary, MyCollate\n",
    "\n",
    "train_loader = Dataset(X_train, y_train, freq_threshold=2)\n"
   ]
  },
  {
   "cell_type": "code",
   "execution_count": 7,
   "metadata": {},
   "outputs": [],
   "source": [
    "from torch.utils.data import Dataset, DataLoader\n",
    "\n",
    "# Parameters\n",
    "params = {'batch_size': 16,\n",
    "          'shuffle': True,\n",
    "          'num_workers': 8,\n",
    "          'collate_fn':MyCollate(train_loader.vocab.stoi[\"<PAD>\"])}"
   ]
  },
  {
   "cell_type": "code",
   "execution_count": 9,
   "metadata": {},
   "outputs": [],
   "source": [
    "loader = DataLoader(dataset=train_loader, \n",
    "                    **params)"
   ]
  },
  {
   "cell_type": "code",
   "execution_count": 10,
   "metadata": {},
   "outputs": [
    {
     "name": "stdout",
     "output_type": "stream",
     "text": [
      "tensor([   1,  842,  694,    6,  866,  867, 4553,  105, 8068,   14, 1778, 1554,\n",
      "          17,  184, 1554,   17,  843,  105,  844, 1259,    2])\n",
      "tensor(0)\n",
      "tensor([   1,  842,  694,    6,  866,  867, 4553,  105, 8068,   14, 1778, 1554,\n",
      "          17,  184, 1554,   17,  843,  105,  844, 1259,    2])\n",
      "tensor(0)\n",
      "tensor([   1,  842,  694,    6,  866,  867, 4553,  105, 8068,   14, 1778, 1554,\n",
      "          17,  184, 1554,   17,  843,  105,  844, 1259,    2])\n",
      "tensor(0)\n",
      "tensor([   1,  842,  694,    6,  866,  867, 4553,  105, 8068,   14, 1778, 1554,\n",
      "          17,  184, 1554,   17,  843,  105,  844, 1259,    2])\n",
      "tensor(0)\n",
      "tensor([   1,  842,  694,    6,  866,  867, 4553,  105, 8068,   14, 1778, 1554,\n",
      "          17,  184, 1554,   17,  843,  105,  844, 1259,    2])\n",
      "tensor(0)\n"
     ]
    }
   ],
   "source": [
    "epochs = 5\n",
    "\n",
    "for epoch in range(epochs):\n",
    "    for batch, label in train_loader:\n",
    "        print(batch)\n",
    "        print(label)\n",
    "        break\n",
    "\n"
   ]
  },
  {
   "cell_type": "code",
   "execution_count": null,
   "metadata": {},
   "outputs": [],
   "source": []
  }
 ],
 "metadata": {
  "kernelspec": {
   "display_name": "Python 3.8.14 ('nlp')",
   "language": "python",
   "name": "python3"
  },
  "language_info": {
   "codemirror_mode": {
    "name": "ipython",
    "version": 3
   },
   "file_extension": ".py",
   "mimetype": "text/x-python",
   "name": "python",
   "nbconvert_exporter": "python",
   "pygments_lexer": "ipython3",
   "version": "3.8.14"
  },
  "orig_nbformat": 4,
  "vscode": {
   "interpreter": {
    "hash": "b06a3ab604725abd1183f57e6ccdb65a0cb91222a3a0c83b092ecade1ef1e243"
   }
  }
 },
 "nbformat": 4,
 "nbformat_minor": 2
}
